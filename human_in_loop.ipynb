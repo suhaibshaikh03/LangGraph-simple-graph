{
  "nbformat": 4,
  "nbformat_minor": 0,
  "metadata": {
    "colab": {
      "provenance": []
    },
    "kernelspec": {
      "name": "python3",
      "display_name": "Python 3"
    },
    "language_info": {
      "name": "python"
    }
  },
  "cells": [
    {
      "cell_type": "code",
      "execution_count": 5,
      "metadata": {
        "collapsed": true,
        "id": "J4BKMXc4hO5Y"
      },
      "outputs": [],
      "source": [
        "%pip install -qU langgraph langchain_core langchain_google_genai"
      ]
    },
    {
      "cell_type": "code",
      "source": [
        "from langchain_google_genai import ChatGoogleGenerativeAI\n",
        "from google.colab import userdata\n",
        "apikey = userdata.get('GOOGLE_API_KEY')\n",
        "llm : ChatGoogleGenerativeAI = ChatGoogleGenerativeAI(model=\"gemini-2.0-flash-exp\",\n",
        "                                                      api_key=apikey,\n",
        "                                                      temperature=0,\n",
        "                                                                    )\n",
        "\n"
      ],
      "metadata": {
        "id": "iWF4dRXShtde"
      },
      "execution_count": 6,
      "outputs": []
    },
    {
      "cell_type": "code",
      "source": [
        "from langgraph.types import Command, interrupt\n",
        "from langgraph.graph import START,StateGraph\n",
        "from IPython.display import Image, display\n",
        "from langgraph.graph.state import CompiledStateGraph\n",
        "from typing import Literal, Optional\n",
        "from pydantic import BaseModel\n",
        "from langgraph.checkpoint.memory import MemorySaver\n",
        "from langchain_core.messages import SystemMessage\n",
        "memory: MemorySaver = MemorySaver()\n",
        "class MyAgent(BaseModel):\n",
        "  summmary : Optional[str] = None\n",
        "  text : Optional[str] = None\n",
        "  question : str\n",
        "\n",
        "\n",
        "def call_model(state) -> Command[Literal[\"human_feedback\"]]:\n",
        "  text = state.question\n",
        "  text2 = llm.invoke(text).content\n",
        "  return Command(update = {\"text\":text2},\n",
        "                 goto = \"human_feedback\")\n",
        "def human_feedback(state) -> Command[Literal[\"call_summary\",\"__end__\"]]:\n",
        "  print(\"-----------interrupt human feedback node------------\")\n",
        "  human_feedback = interrupt({\n",
        "          \"question\":\"Is the text generated correct, should i proceed to summary?\",\n",
        "          \"text\":state.text\n",
        "                             })\n",
        "  if human_feedback.lower() == \"yes\":\n",
        "    return Command(goto = \"call_summary\")\n",
        "  else:\n",
        "    print(\"-----not permitted to go to summary-----\" )\n",
        "    return (Command(goto = \"__end__\"))\n",
        "def call_summary(state) -> Command[Literal[\"__end__\"]]:\n",
        "  text = state.text\n",
        "  sys = [SystemMessage(content=\"write a summary of the text given below\")]\n",
        "  text2 = llm.invoke(sys + [text]).content\n",
        "  return {\"summmary\":text2}\n",
        "\n",
        "builder: StateGraph = StateGraph(MyAgent)\n",
        "builder.add_node(call_model)\n",
        "builder.add_node(human_feedback)\n",
        "builder.add_node(call_summary)\n",
        "builder.add_edge(START,\"call_model\")\n",
        "graph : CompiledStateGraph = builder.compile(checkpointer = memory)\n",
        "display(Image(graph.get_graph(xray=True).draw_mermaid_png()))"
      ],
      "metadata": {
        "colab": {
          "base_uri": "https://localhost:8080/",
          "height": 449
        },
        "collapsed": true,
        "id": "GmnvLvkghbwQ",
        "outputId": "e33b11bf-a90f-4fde-a841-6dacc197f583"
      },
      "execution_count": 40,
      "outputs": [
        {
          "output_type": "display_data",
          "data": {
            "image/png": "[encoded data removed]",
            "text/plain": [
              "<IPython.core.display.Image object>"
            ]
          },
          "metadata": {}
        }
      ]
    },
    {
      "cell_type": "code",
      "source": [
        "thread = {\"configurable\": {\"thread_id\": \"3\"}}\n",
        "\n",
        "# Provide initial values for 'summary' and 'text' fields\n",
        "for event in graph.stream(\n",
        "    {\n",
        "        \"question\": \"write a short note about crewAI\",\n",
        "        \"summary\": \"\",  # Initialize as an empty string or a meaningful default\n",
        "        \"text\": \"\",     # Initialize as an empty string or a meaningful default\n",
        "    },\n",
        "    config=thread,\n",
        "    stream_mode=\"updates\"\n",
        "):\n",
        "    print(event)\n"
      ],
      "metadata": {
        "colab": {
          "base_uri": "https://localhost:8080/"
        },
        "id": "2xXKauJwmcRY",
        "outputId": "f795aadb-d475-41e7-dc39-e4a569a013a6"
      },
      "execution_count": 36,
      "outputs": [
        {
          "output_type": "stream",
          "name": "stdout",
          "text": [
            "{'call_model': {'text': \"Okay, here's a short note about CrewAI:\\n\\n**CrewAI is a Python framework that simplifies the creation of AI agents that can collaborate to achieve complex goals. It allows you to define agents with specific roles, tools, and responsibilities, and then orchestrate their interactions to solve problems. Think of it as a way to build a team of AI specialists working together.**\\n\\nKey takeaways:\\n\\n*   **Collaboration:** Focuses on multi-agent systems.\\n*   **Flexibility:** Allows for custom agent roles and tools.\\n*   **Orchestration:** Provides tools to manage agent interactions.\\n*   **Python-based:** Easy to integrate into existing Python workflows.\\n\\nIn short, CrewAI is a powerful tool for building more sophisticated and capable AI applications by leveraging the power of collaborative agents.\"}}\n",
            "-----------interrupt human feedback node------------\n",
            "{'__interrupt__': (Interrupt(value={'question': 'Is the text generated correct, should i proceed to summary?', 'text': \"Okay, here's a short note about CrewAI:\\n\\n**CrewAI is a Python framework that simplifies the creation of AI agents that can collaborate to achieve complex goals. It allows you to define agents with specific roles, tools, and responsibilities, and then orchestrate their interactions to solve problems. Think of it as a way to build a team of AI specialists working together.**\\n\\nKey takeaways:\\n\\n*   **Collaboration:** Focuses on multi-agent systems.\\n*   **Flexibility:** Allows for custom agent roles and tools.\\n*   **Orchestration:** Provides tools to manage agent interactions.\\n*   **Python-based:** Easy to integrate into existing Python workflows.\\n\\nIn short, CrewAI is a powerful tool for building more sophisticated and capable AI applications by leveraging the power of collaborative agents.\"}, resumable=True, ns=['human_feedback:7ca49b26-7ba7-a175-08ec-b4dddf348b01'], when='during'),)}\n"
          ]
        }
      ]
    },
    {
      "cell_type": "code",
      "source": [
        "current = graph.get_state(thread)\n",
        "print(current)"
      ],
      "metadata": {
        "colab": {
          "base_uri": "https://localhost:8080/"
        },
        "id": "Bz8hNDny1CX8",
        "outputId": "9902c76b-b00c-4802-8c89-94f85179926c"
      },
      "execution_count": 37,
      "outputs": [
        {
          "output_type": "stream",
          "name": "stdout",
          "text": [
            "StateSnapshot(values={'text': \"Okay, here's a short note about CrewAI:\\n\\n**CrewAI is a Python framework that simplifies the creation of AI agents that can collaborate to achieve complex goals. It allows you to define agents with specific roles, tools, and responsibilities, and then orchestrate their interactions to solve problems. Think of it as a way to build a team of AI specialists working together.**\\n\\nKey takeaways:\\n\\n*   **Collaboration:** Focuses on multi-agent systems.\\n*   **Flexibility:** Allows for custom agent roles and tools.\\n*   **Orchestration:** Provides tools to manage agent interactions.\\n*   **Python-based:** Easy to integrate into existing Python workflows.\\n\\nIn short, CrewAI is a powerful tool for building more sophisticated and capable AI applications by leveraging the power of collaborative agents.\", 'question': 'write a short note about crewAI'}, next=('human_feedback',), config={'configurable': {'thread_id': '3', 'checkpoint_ns': '', 'checkpoint_id': '1efd1b1f-661e-68bd-8001-f4f73e90c108'}}, metadata={'source': 'loop', 'writes': {'call_model': {'text': \"Okay, here's a short note about CrewAI:\\n\\n**CrewAI is a Python framework that simplifies the creation of AI agents that can collaborate to achieve complex goals. It allows you to define agents with specific roles, tools, and responsibilities, and then orchestrate their interactions to solve problems. Think of it as a way to build a team of AI specialists working together.**\\n\\nKey takeaways:\\n\\n*   **Collaboration:** Focuses on multi-agent systems.\\n*   **Flexibility:** Allows for custom agent roles and tools.\\n*   **Orchestration:** Provides tools to manage agent interactions.\\n*   **Python-based:** Easy to integrate into existing Python workflows.\\n\\nIn short, CrewAI is a powerful tool for building more sophisticated and capable AI applications by leveraging the power of collaborative agents.\"}}, 'thread_id': '3', 'step': 1, 'parents': {}}, created_at='2025-01-13T13:26:14.480265+00:00', parent_config={'configurable': {'thread_id': '3', 'checkpoint_ns': '', 'checkpoint_id': '1efd1b1f-57ac-62a5-8000-9b4e9a62ca39'}}, tasks=(PregelTask(id='7ca49b26-7ba7-a175-08ec-b4dddf348b01', name='human_feedback', path=('__pregel_pull', 'human_feedback'), error=None, interrupts=(Interrupt(value={'question': 'Is the text generated correct, should i proceed to summary?', 'text': \"Okay, here's a short note about CrewAI:\\n\\n**CrewAI is a Python framework that simplifies the creation of AI agents that can collaborate to achieve complex goals. It allows you to define agents with specific roles, tools, and responsibilities, and then orchestrate their interactions to solve problems. Think of it as a way to build a team of AI specialists working together.**\\n\\nKey takeaways:\\n\\n*   **Collaboration:** Focuses on multi-agent systems.\\n*   **Flexibility:** Allows for custom agent roles and tools.\\n*   **Orchestration:** Provides tools to manage agent interactions.\\n*   **Python-based:** Easy to integrate into existing Python workflows.\\n\\nIn short, CrewAI is a powerful tool for building more sophisticated and capable AI applications by leveraging the power of collaborative agents.\"}, resumable=True, ns=['human_feedback:7ca49b26-7ba7-a175-08ec-b4dddf348b01'], when='during'),), state=None, result=None),))\n"
          ]
        }
      ]
    },
    {
      "cell_type": "code",
      "source": [
        "current.next"
      ],
      "metadata": {
        "colab": {
          "base_uri": "https://localhost:8080/"
        },
        "id": "GEtOOTUk1KTf",
        "outputId": "da9175a5-d4ff-4b1e-fd3e-7ead91c98930"
      },
      "execution_count": 38,
      "outputs": [
        {
          "output_type": "execute_result",
          "data": {
            "text/plain": [
              "('human_feedback',)"
            ]
          },
          "metadata": {},
          "execution_count": 38
        }
      ]
    },
    {
      "cell_type": "code",
      "source": [
        "b = graph.invoke(Command(resume=\"Yes\"),config=thread)\n",
        "print(b)"
      ],
      "metadata": {
        "colab": {
          "base_uri": "https://localhost:8080/"
        },
        "id": "S9XqRr9iqPDr",
        "outputId": "cfde39b2-6ab8-46d1-fce1-4464f54be1e2"
      },
      "execution_count": 39,
      "outputs": [
        {
          "output_type": "stream",
          "name": "stdout",
          "text": [
            "-----------interrupt human feedback node------------\n",
            "{'summmary': \"Okay, here's a summary of the provided text about CrewAI:\\n\\n**CrewAI is a Python framework designed to facilitate the creation of collaborative AI agent systems. It enables users to define individual agents with specific roles, tools, and responsibilities, and then orchestrate their interactions to achieve complex goals. Essentially, it allows you to build a team of AI specialists working together. Key features include its focus on multi-agent collaboration, flexibility in defining agent roles and tools, tools for managing agent interactions, and its Python-based nature, making it easy to integrate into existing workflows. In essence, CrewAI empowers the development of more sophisticated AI applications through the power of collaborative agents.**\", 'text': \"Okay, here's a short note about CrewAI:\\n\\n**CrewAI is a Python framework that simplifies the creation of AI agents that can collaborate to achieve complex goals. It allows you to define agents with specific roles, tools, and responsibilities, and then orchestrate their interactions to solve problems. Think of it as a way to build a team of AI specialists working together.**\\n\\nKey takeaways:\\n\\n*   **Collaboration:** Focuses on multi-agent systems.\\n*   **Flexibility:** Allows for custom agent roles and tools.\\n*   **Orchestration:** Provides tools to manage agent interactions.\\n*   **Python-based:** Easy to integrate into existing Python workflows.\\n\\nIn short, CrewAI is a powerful tool for building more sophisticated and capable AI applications by leveraging the power of collaborative agents.\", 'question': 'write a short note about crewAI'}\n"
          ]
        }
      ]
    },
    {
      "cell_type": "code",
      "source": [
        "thread = {\"configurable\": {\"thread_id\": \"999\"}}\n",
        "\n",
        "# Provide initial values for 'summary' and 'text' fields\n",
        "for event in graph.stream(\n",
        "    {\n",
        "        \"question\": \"write a short note about crewAI\",\n",
        "        \"summary\": \"\",  # Initialize as an empty string or a meaningful default\n",
        "        \"text\": \"\",     # Initialize as an empty string or a meaningful default\n",
        "    },\n",
        "    config=thread,\n",
        "    stream_mode=\"updates\"\n",
        "):\n",
        "    print(event)"
      ],
      "metadata": {
        "colab": {
          "base_uri": "https://localhost:8080/"
        },
        "id": "R62LtAWCqOvJ",
        "outputId": "a031738b-133b-4736-c789-c44d8ea18405"
      },
      "execution_count": 47,
      "outputs": [
        {
          "output_type": "stream",
          "name": "stdout",
          "text": [
            "{'call_model': {'text': \"Okay, here's a short note about CrewAI:\\n\\n**CrewAI is a Python framework that simplifies the creation of AI agents that can collaborate to achieve complex goals. It allows you to define agents with specific roles, tools, and responsibilities, and then orchestrate their interactions to solve problems. Think of it as a way to build a team of AI specialists working together.**\\n\\nKey takeaways:\\n\\n*   **Collaboration:** Focuses on multi-agent systems.\\n*   **Flexibility:** Allows for custom agent roles and tools.\\n*   **Orchestration:** Provides tools to manage agent interactions.\\n*   **Python-based:** Easy to integrate into existing Python workflows.\\n\\nIn short, CrewAI is a powerful tool for building more sophisticated and capable AI applications by leveraging the power of collaborative agents.\"}}\n",
            "-----------interrupt human feedback node------------\n",
            "{'__interrupt__': (Interrupt(value={'question': 'Is the text generated correct, should i proceed to summary?', 'text': \"Okay, here's a short note about CrewAI:\\n\\n**CrewAI is a Python framework that simplifies the creation of AI agents that can collaborate to achieve complex goals. It allows you to define agents with specific roles, tools, and responsibilities, and then orchestrate their interactions to solve problems. Think of it as a way to build a team of AI specialists working together.**\\n\\nKey takeaways:\\n\\n*   **Collaboration:** Focuses on multi-agent systems.\\n*   **Flexibility:** Allows for custom agent roles and tools.\\n*   **Orchestration:** Provides tools to manage agent interactions.\\n*   **Python-based:** Easy to integrate into existing Python workflows.\\n\\nIn short, CrewAI is a powerful tool for building more sophisticated and capable AI applications by leveraging the power of collaborative agents.\"}, resumable=True, ns=['human_feedback:d211a06b-7073-7c84-22ea-5bc14acfe1e6'], when='during'),)}\n"
          ]
        }
      ]
    },
    {
      "cell_type": "code",
      "source": [
        "b = graph.invoke(Command(resume=\"no\"),config=thread)\n",
        "print(b)"
      ],
      "metadata": {
        "colab": {
          "base_uri": "https://localhost:8080/"
        },
        "id": "16KoKMEh2W_r",
        "outputId": "a3184316-b117-42c5-8644-f0cdd53cbc76"
      },
      "execution_count": 48,
      "outputs": [
        {
          "output_type": "stream",
          "name": "stdout",
          "text": [
            "-----------interrupt human feedback node------------\n",
            "-----not permitted to go to summary-----\n",
            "{'text': \"Okay, here's a short note about CrewAI:\\n\\n**CrewAI is a Python framework that simplifies the creation of AI agents that can collaborate to achieve complex goals. It allows you to define agents with specific roles, tools, and responsibilities, and then orchestrate their interactions to solve problems. Think of it as a way to build a team of AI specialists working together.**\\n\\nKey takeaways:\\n\\n*   **Collaboration:** Focuses on multi-agent systems.\\n*   **Flexibility:** Allows for custom agent roles and tools.\\n*   **Orchestration:** Provides tools to manage agent interactions.\\n*   **Python-based:** Easy to integrate into existing Python workflows.\\n\\nIn short, CrewAI is a powerful tool for building more sophisticated and capable AI applications by leveraging the power of collaborative agents.\", 'question': 'write a short note about crewAI'}\n"
          ]
        }
      ]
    }
  ]
}